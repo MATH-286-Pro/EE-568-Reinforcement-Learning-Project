{
 "cells": [
  {
   "cell_type": "code",
   "execution_count": null,
   "id": "c1bfc6fb",
   "metadata": {},
   "outputs": [],
   "source": [
    "# 雅达利小游戏\n",
    "# https://www.bilibili.com/video/BV1hd4y1c7bU/?vd_source=4c878cdda4a827e2590557bcbb57b3e5\n",
    "# 1:41:25\n",
    "\n",
    "\n",
    "import os\n",
    "import gymnasium as gym\n",
    "from stable_baselines3 import PPO,SAC,A2C\n",
    "from stable_baselines3.common.vec_env import VecFrameStack\n",
    "from stable_baselines3.common.evaluation import evaluate_policy\n",
    "from stable_baselines3.common.env_util import make_atari_env"
   ]
  },
  {
   "cell_type": "code",
   "execution_count": 5,
   "id": "d66486ad",
   "metadata": {},
   "outputs": [],
   "source": [
    "# 下载雅达利小游戏环境\n",
    "# http://www.atarimania.com/roms/Roms.rar"
   ]
  }
 ],
 "metadata": {
  "kernelspec": {
   "display_name": "Python 3",
   "language": "python",
   "name": "python3"
  },
  "language_info": {
   "codemirror_mode": {
    "name": "ipython",
    "version": 3
   },
   "file_extension": ".py",
   "mimetype": "text/x-python",
   "name": "python",
   "nbconvert_exporter": "python",
   "pygments_lexer": "ipython3",
   "version": "3.12.6"
  }
 },
 "nbformat": 4,
 "nbformat_minor": 5
}
